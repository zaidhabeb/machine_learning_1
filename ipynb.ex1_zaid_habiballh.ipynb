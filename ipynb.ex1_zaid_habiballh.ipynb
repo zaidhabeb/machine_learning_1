{
 "cells": [
  {
   "cell_type": "markdown",
   "metadata": {
    "id": "t1I0ncvTh3x8"
   },
   "source": [
    "1. Load breast cancer dataset (**structured data**)\n",
    "\n",
    "For more details about the data: https://scikit-learn.org/1.5/modules/generated/sklearn.datasets.load_breast_cancer.html"
   ]
  },
  {
   "cell_type": "code",
   "metadata": {
    "id": "QbVFGbTWiI1W",
    "ExecuteTime": {
     "end_time": "2024-12-04T11:01:59.498220Z",
     "start_time": "2024-12-04T11:01:59.389757Z"
    }
   },
   "source": [
    "\n",
    "from sklearn.datasets import load_breast_cancer\n",
    "\n",
    "my_data = load_breast_cancer()\n",
    "pd.read(my_data)"
   ],
   "outputs": [
    {
     "ename": "AttributeError",
     "evalue": "module 'pandas' has no attribute 'read'",
     "output_type": "error",
     "traceback": [
      "\u001B[0;31m---------------------------------------------------------------------------\u001B[0m",
      "\u001B[0;31mAttributeError\u001B[0m                            Traceback (most recent call last)",
      "Cell \u001B[0;32mIn[9], line 4\u001B[0m\n\u001B[1;32m      1\u001B[0m \u001B[38;5;28;01mfrom\u001B[39;00m \u001B[38;5;21;01msklearn\u001B[39;00m\u001B[38;5;21;01m.\u001B[39;00m\u001B[38;5;21;01mdatasets\u001B[39;00m \u001B[38;5;28;01mimport\u001B[39;00m load_breast_cancer\n\u001B[1;32m      3\u001B[0m my_data \u001B[38;5;241m=\u001B[39m load_breast_cancer()\n\u001B[0;32m----> 4\u001B[0m \u001B[43mpd\u001B[49m\u001B[38;5;241;43m.\u001B[39;49m\u001B[43mread\u001B[49m(my_data)\n",
      "\u001B[0;31mAttributeError\u001B[0m: module 'pandas' has no attribute 'read'"
     ]
    }
   ],
   "execution_count": 9
  },
  {
   "metadata": {},
   "cell_type": "markdown",
   "source": [
    "2. Visualize the data\n",
    "\n",
    "- Only **5 points** for visualizing the data\n",
    "- Use TSNE algorithm: sklearn.manifold.TSNE\n",
    "- A good and simple code can be found here (they used PCA instead of TSNE): https://skp2707.medium.com/pca-on-cancer-dataset-4d7a97f5fdb8"
   ]
  },
  {
   "cell_type": "code",
   "metadata": {
    "id": "D3DKodjmYIBD",
    "ExecuteTime": {
     "end_time": "2024-12-04T11:01:54.968332Z",
     "start_time": "2024-12-04T11:01:53.800018Z"
    }
   },
   "source": [
    "from sklearn.manifold import TSNE\n",
    "import numpy as np\n",
    "import pandas as pd\n",
    "import matplotlib.pyplot as plt\n",
    "\n"
   ],
   "outputs": [],
   "execution_count": 8
  },
  {
   "cell_type": "markdown",
   "metadata": {
    "id": "LpYvmEUWlf2l"
   },
   "source": [
    "3. Split **my_data** to train and test:\n",
    "\n",
    "- Define X_train, X_test, Y_train, Y_test\n",
    "- Choose **test_size** for splitting **my_data**\n",
    "- Use **train_test_split** (for details: https://scikit-learn.org/dev/modules/generated/sklearn.model_selection.train_test_split.html)"
   ]
  },
  {
   "cell_type": "code",
   "execution_count": null,
   "metadata": {
    "id": "V8CpCqnGmCg2"
   },
   "outputs": [],
   "source": [
    "\n",
    "from sklearn.model_selection import train_test_split\n",
    "\n",
    "# X_train, X_test, Y_train, Y_test = train_test_split(...)"
   ]
  },
  {
   "cell_type": "markdown",
   "metadata": {
    "id": "o1_cFF_cjIyK"
   },
   "source": [
    "4. Train **model_decision_tree**\n",
    "\n",
    "- Library: sklearn.tree.DecisionTreeClassifier\n",
    "- Data: X_train, Y_train\n",
    "- **Essential**: explore and optimize DecisionTreeClassifier options   "
   ]
  },
  {
   "cell_type": "code",
   "execution_count": null,
   "metadata": {
    "id": "W8CWNt_2iZm4"
   },
   "outputs": [],
   "source": [
    "from sklearn.tree import DecisionTreeClassifier\n",
    "\n",
    "# model_decision_tree = DecisionTreeClassifier(...)\n",
    "# model_decision_tree.fit(...)"
   ]
  },
  {
   "cell_type": "markdown",
   "metadata": {
    "id": "X__nmyElkPWs"
   },
   "source": [
    "5. Train model_random_forest\n",
    "- Library: sklearn.ensemble.RandomForestClassifier\n",
    "- Data: X_train, Y_train\n",
    "- **Essential**: explore and optimize RandomForestClassifier options"
   ]
  },
  {
   "cell_type": "code",
   "execution_count": null,
   "metadata": {
    "id": "6B4GKjlCkRdT"
   },
   "outputs": [],
   "source": [
    "from sklearn.ensemble import RandomForestClassifier\n",
    "\n",
    "# model_random_forest = RandomForestClassifier(...)\n",
    "# model_random_forest.fit(...)"
   ]
  },
  {
   "cell_type": "markdown",
   "metadata": {
    "id": "4qOTlMrDkSBM"
   },
   "source": [
    "6. Train model_adaboost\n",
    "\n",
    "- Library: sklearn.ensemble.AdaBoostClassifier\n",
    "- Data: X_train, Y_train\n",
    "- **Essential**: explore and optimize AdaBoostClassifier options"
   ]
  },
  {
   "cell_type": "code",
   "execution_count": null,
   "metadata": {
    "id": "Y5VGaDhJkYsL"
   },
   "outputs": [],
   "source": [
    "from sklearn.ensemble import AdaBoostClassifier\n",
    "\n",
    "# model_adaboost = AdaBoostClassifier(...)\n",
    "# model_adaboost.fit(...)\n"
   ]
  },
  {
   "cell_type": "markdown",
   "metadata": {
    "id": "0AdCG5Pfta5S"
   },
   "source": [
    "7. Evaluate model_decision_tree, model_random_forest, model_adaboost\n",
    "\n",
    "- Library: sklearn.metrics\n",
    "- Data: X_test, Y_test\n",
    "- **Calculate** and **print** results of each classifier\n",
    "- **Choose** the decisive metric\n",
    "- **Compare** between the classifiers and declare the winner\n"
   ]
  },
  {
   "cell_type": "code",
   "execution_count": null,
   "metadata": {
    "id": "MkTXQR3mrBmM"
   },
   "outputs": [],
   "source": [
    "from sklearn.metrics import accuracy_score\n",
    "from sklearn.metrics import confusion_matrix\n",
    "from sklearn.metrics import precision_score\n",
    "from sklearn.metrics import recall_score\n",
    "from sklearn.metrics import f1_score\n",
    "\n",
    "#"
   ]
  }
 ],
 "metadata": {
  "colab": {
   "provenance": []
  },
  "kernelspec": {
   "display_name": "Python 3 (ipykernel)",
   "name": "python3",
   "language": "python"
  },
  "language_info": {
   "codemirror_mode": {
    "name": "ipython",
    "version": 3
   },
   "file_extension": ".py",
   "mimetype": "text/x-python",
   "name": "python",
   "nbconvert_exporter": "python",
   "pygments_lexer": "ipython3",
   "version": "3.12.0"
  }
 },
 "nbformat": 4,
 "nbformat_minor": 0
}
