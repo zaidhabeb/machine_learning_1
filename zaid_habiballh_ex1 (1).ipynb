{
  "cells": [
    {
      "cell_type": "markdown",
      "source": [
        "# Github link\n",
        "\n",
        "https://github.com/zaidhabeb/machine_learning_1"
      ],
      "metadata": {
        "id": "xAW1HpxkxZ-c"
      }
    },
    {
      "cell_type": "markdown",
      "metadata": {
        "id": "t1I0ncvTh3x8"
      },
      "source": [
        "#1. Load breast cancer dataset (**structured data**)\n",
        "\n",
        "For more details about the data: https://scikit-learn.org/1.5/modules/generated/sklearn.datasets.load_breast_cancer.html"
      ]
    },
    {
      "cell_type": "code",
      "metadata": {
        "id": "QbVFGbTWiI1W",
        "ExecuteTime": {
          "end_time": "2024-12-04T11:01:59.498220Z",
          "start_time": "2024-12-04T11:01:59.389757Z"
        },
        "colab": {
          "base_uri": "https://localhost:8080/"
        },
        "outputId": "005d5b53-d78f-481d-c4cc-987c5e1a3edc",
        "collapsed": true
      },
      "source": [
        "from sklearn.datasets import load_breast_cancer\n",
        "\n",
        "# Load the dataset\n",
        "data = load_breast_cancer()\n",
        "\n",
        "# Display dataset information\n",
        "print(data.DESCR)\n"
      ],
      "outputs": [
        {
          "output_type": "stream",
          "name": "stdout",
          "text": [
            ".. _breast_cancer_dataset:\n",
            "\n",
            "Breast cancer wisconsin (diagnostic) dataset\n",
            "--------------------------------------------\n",
            "\n",
            "**Data Set Characteristics:**\n",
            "\n",
            ":Number of Instances: 569\n",
            "\n",
            ":Number of Attributes: 30 numeric, predictive attributes and the class\n",
            "\n",
            ":Attribute Information:\n",
            "    - radius (mean of distances from center to points on the perimeter)\n",
            "    - texture (standard deviation of gray-scale values)\n",
            "    - perimeter\n",
            "    - area\n",
            "    - smoothness (local variation in radius lengths)\n",
            "    - compactness (perimeter^2 / area - 1.0)\n",
            "    - concavity (severity of concave portions of the contour)\n",
            "    - concave points (number of concave portions of the contour)\n",
            "    - symmetry\n",
            "    - fractal dimension (\"coastline approximation\" - 1)\n",
            "\n",
            "    The mean, standard error, and \"worst\" or largest (mean of the three\n",
            "    worst/largest values) of these features were computed for each image,\n",
            "    resulting in 30 features.  For instance, field 0 is Mean Radius, field\n",
            "    10 is Radius SE, field 20 is Worst Radius.\n",
            "\n",
            "    - class:\n",
            "            - WDBC-Malignant\n",
            "            - WDBC-Benign\n",
            "\n",
            ":Summary Statistics:\n",
            "\n",
            "===================================== ====== ======\n",
            "                                        Min    Max\n",
            "===================================== ====== ======\n",
            "radius (mean):                        6.981  28.11\n",
            "texture (mean):                       9.71   39.28\n",
            "perimeter (mean):                     43.79  188.5\n",
            "area (mean):                          143.5  2501.0\n",
            "smoothness (mean):                    0.053  0.163\n",
            "compactness (mean):                   0.019  0.345\n",
            "concavity (mean):                     0.0    0.427\n",
            "concave points (mean):                0.0    0.201\n",
            "symmetry (mean):                      0.106  0.304\n",
            "fractal dimension (mean):             0.05   0.097\n",
            "radius (standard error):              0.112  2.873\n",
            "texture (standard error):             0.36   4.885\n",
            "perimeter (standard error):           0.757  21.98\n",
            "area (standard error):                6.802  542.2\n",
            "smoothness (standard error):          0.002  0.031\n",
            "compactness (standard error):         0.002  0.135\n",
            "concavity (standard error):           0.0    0.396\n",
            "concave points (standard error):      0.0    0.053\n",
            "symmetry (standard error):            0.008  0.079\n",
            "fractal dimension (standard error):   0.001  0.03\n",
            "radius (worst):                       7.93   36.04\n",
            "texture (worst):                      12.02  49.54\n",
            "perimeter (worst):                    50.41  251.2\n",
            "area (worst):                         185.2  4254.0\n",
            "smoothness (worst):                   0.071  0.223\n",
            "compactness (worst):                  0.027  1.058\n",
            "concavity (worst):                    0.0    1.252\n",
            "concave points (worst):               0.0    0.291\n",
            "symmetry (worst):                     0.156  0.664\n",
            "fractal dimension (worst):            0.055  0.208\n",
            "===================================== ====== ======\n",
            "\n",
            ":Missing Attribute Values: None\n",
            "\n",
            ":Class Distribution: 212 - Malignant, 357 - Benign\n",
            "\n",
            ":Creator:  Dr. William H. Wolberg, W. Nick Street, Olvi L. Mangasarian\n",
            "\n",
            ":Donor: Nick Street\n",
            "\n",
            ":Date: November, 1995\n",
            "\n",
            "This is a copy of UCI ML Breast Cancer Wisconsin (Diagnostic) datasets.\n",
            "https://goo.gl/U2Uwz2\n",
            "\n",
            "Features are computed from a digitized image of a fine needle\n",
            "aspirate (FNA) of a breast mass.  They describe\n",
            "characteristics of the cell nuclei present in the image.\n",
            "\n",
            "Separating plane described above was obtained using\n",
            "Multisurface Method-Tree (MSM-T) [K. P. Bennett, \"Decision Tree\n",
            "Construction Via Linear Programming.\" Proceedings of the 4th\n",
            "Midwest Artificial Intelligence and Cognitive Science Society,\n",
            "pp. 97-101, 1992], a classification method which uses linear\n",
            "programming to construct a decision tree.  Relevant features\n",
            "were selected using an exhaustive search in the space of 1-4\n",
            "features and 1-3 separating planes.\n",
            "\n",
            "The actual linear program used to obtain the separating plane\n",
            "in the 3-dimensional space is that described in:\n",
            "[K. P. Bennett and O. L. Mangasarian: \"Robust Linear\n",
            "Programming Discrimination of Two Linearly Inseparable Sets\",\n",
            "Optimization Methods and Software 1, 1992, 23-34].\n",
            "\n",
            "This database is also available through the UW CS ftp server:\n",
            "\n",
            "ftp ftp.cs.wisc.edu\n",
            "cd math-prog/cpo-dataset/machine-learn/WDBC/\n",
            "\n",
            ".. dropdown:: References\n",
            "\n",
            "  - W.N. Street, W.H. Wolberg and O.L. Mangasarian. Nuclear feature extraction\n",
            "    for breast tumor diagnosis. IS&T/SPIE 1993 International Symposium on\n",
            "    Electronic Imaging: Science and Technology, volume 1905, pages 861-870,\n",
            "    San Jose, CA, 1993.\n",
            "  - O.L. Mangasarian, W.N. Street and W.H. Wolberg. Breast cancer diagnosis and\n",
            "    prognosis via linear programming. Operations Research, 43(4), pages 570-577,\n",
            "    July-August 1995.\n",
            "  - W.H. Wolberg, W.N. Street, and O.L. Mangasarian. Machine learning techniques\n",
            "    to diagnose breast cancer from fine-needle aspirates. Cancer Letters 77 (1994)\n",
            "    163-171.\n",
            "\n"
          ]
        }
      ],
      "execution_count": 368
    },
    {
      "metadata": {
        "id": "OIIO5rJdg7Rr"
      },
      "cell_type": "markdown",
      "source": [
        "#2. Visualize the data\n",
        "\n",
        "- Only **5 points** for visualizing the data\n",
        "- Use TSNE algorithm: sklearn.manifold.TSNE\n",
        "- A good and simple code can be found here (they used PCA instead of TSNE): https://skp2707.medium.com/pca-on-cancer-dataset-4d7a97f5fdb8"
      ]
    },
    {
      "cell_type": "code",
      "metadata": {
        "id": "D3DKodjmYIBD",
        "ExecuteTime": {
          "end_time": "2024-12-04T11:01:54.968332Z",
          "start_time": "2024-12-04T11:01:53.800018Z"
        },
        "colab": {
          "base_uri": "https://localhost:8080/",
          "height": 564
        },
        "outputId": "c19a8f0f-5ae3-4a81-9bb3-a910a8533723",
        "collapsed": true
      },
      "source": [
        "import numpy as np\n",
        "import matplotlib.pyplot as plt\n",
        "from sklearn.datasets import load_breast_cancer\n",
        "from sklearn.manifold import TSNE\n",
        "from sklearn.preprocessing import StandardScaler\n",
        "\n",
        "# Load the dataset\n",
        "data = load_breast_cancer()\n",
        "X = data.data\n",
        "y = data.target\n",
        "\n",
        "# Standardize the features\n",
        "X_scaled = StandardScaler().fit_transform(X)\n",
        "\n",
        "# Apply t-SNE\n",
        "tsne = TSNE(n_components=2, random_state=42)\n",
        "X_tsne = tsne.fit_transform(X_scaled)\n",
        "\n",
        "# Visualize the results\n",
        "plt.figure(figsize=(8, 6))\n",
        "plt.scatter(X_tsne[y == 0, 0], X_tsne[y == 0, 1], c='red', label='Malignant', alpha=0.7)\n",
        "plt.scatter(X_tsne[y == 1, 0], X_tsne[y == 1, 1], c='blue', label='Benign', alpha=0.7)\n",
        "plt.title(\"t-SNE Visualization of Breast Cancer Data\")\n",
        "plt.xlabel(\"t-SNE Component 1\")\n",
        "plt.ylabel(\"t-SNE Component 2\")\n",
        "plt.legend()\n",
        "plt.show()"
      ],
      "outputs": [
        {
          "output_type": "display_data",
          "data": {
            "text/plain": [
              "<Figure size 800x600 with 1 Axes>"
            ],
            "image/png": "[encoded data removed]"
          },
          "metadata": {}
        }
      ],
      "execution_count": 369
    },
    {
      "cell_type": "markdown",
      "metadata": {
        "id": "LpYvmEUWlf2l"
      },
      "source": [
        "#3. Split **my_data** to train and test:\n",
        "\n",
        "- Define X_train, X_test, Y_train, Y_test\n",
        "- Choose **test_size** for splitting **my_data**\n",
        "- Use **train_test_split** (for details: https://scikit-learn.org/dev/modules/generated/sklearn.model_selection.train_test_split.html)"
      ]
    },
    {
      "cell_type": "code",
      "execution_count": 370,
      "metadata": {
        "id": "V8CpCqnGmCg2",
        "colab": {
          "base_uri": "https://localhost:8080/"
        },
        "outputId": "225524ce-05a7-49d1-c09d-e286e2fbf4b1"
      },
      "outputs": [
        {
          "output_type": "stream",
          "name": "stdout",
          "text": [
            "X_train shape: (455, 30)\n",
            "X_test shape: (114, 30)\n",
            "y_train shape: (455,)\n",
            "y_test shape: (114,)\n"
          ]
        }
      ],
      "source": [
        "from sklearn.model_selection import train_test_split\n",
        "\n",
        "# Load the dataset\n",
        "data = load_breast_cancer()\n",
        "X = data.data\n",
        "y = data.target\n",
        "\n",
        "# Split the data into train and test sets\n",
        "test_size = 0.2  # You can adjust this value\n",
        "X_train, X_test, y_train, y_test = train_test_split(X, y, test_size=test_size, random_state=42)\n",
        "\n",
        "# Print the shapes to verify\n",
        "print(f\"X_train shape: {X_train.shape}\")\n",
        "print(f\"X_test shape: {X_test.shape}\")\n",
        "print(f\"y_train shape: {y_train.shape}\")\n",
        "print(f\"y_test shape: {y_test.shape}\")"
      ]
    },
    {
      "cell_type": "markdown",
      "metadata": {
        "id": "o1_cFF_cjIyK"
      },
      "source": [
        "#4. Train **model_decision_tree**\n",
        "\n",
        "- Library: sklearn.tree.DecisionTreeClassifier\n",
        "- Data;: X_train, Y_train\n",
        "- **Essential**: explore and optimize DecisionTreeClassifier options   "
      ]
    },
    {
      "cell_type": "code",
      "execution_count": 371,
      "metadata": {
        "id": "W8CWNt_2iZm4",
        "colab": {
          "base_uri": "https://localhost:8080/"
        },
        "outputId": "c82558b2-6b20-4d0f-cd9d-daf2b4a4c81a"
      },
      "outputs": [
        {
          "output_type": "stream",
          "name": "stdout",
          "text": [
            "Model trained with specified parameters.\n"
          ]
        }
      ],
      "source": [
        "from sklearn.tree import DecisionTreeClassifier\n",
        "\n",
        "# Define parameter values\n",
        "criterion = 'entropy'            # Options: 'gini', 'entropy'\n",
        "splitter = 'random'             # Options: 'best', 'random'\n",
        "max_depth = 20                # Options: None, any positive integer\n",
        "min_samples_split = 10       # Options: any positive integer\n",
        "min_samples_leaf = 4         # Options: any positive integer\n",
        "\n",
        "# Initialize and train the classifier\n",
        "model_decision_tree = DecisionTreeClassifier(\n",
        "    criterion=criterion,\n",
        "    splitter=splitter,\n",
        "    max_depth=max_depth,\n",
        "    min_samples_split=min_samples_split,\n",
        "    min_samples_leaf=min_samples_leaf,\n",
        "    random_state=42\n",
        ")\n",
        "\n",
        "model_decision_tree.fit(X_train, y_train)\n",
        "\n",
        "print(\"Model trained with specified parameters.\")"
      ]
    },
    {
      "cell_type": "markdown",
      "metadata": {
        "id": "X__nmyElkPWs"
      },
      "source": [
        "#5. Train model_random_forest\n",
        "- Library: sklearn.ensemble.RandomForestClassifier\n",
        "- Data: X_train, Y_train\n",
        "- **Essential**: explore and optimize RandomForestClassifier options"
      ]
    },
    {
      "cell_type": "code",
      "execution_count": 372,
      "metadata": {
        "id": "6B4GKjlCkRdT",
        "colab": {
          "base_uri": "https://localhost:8080/"
        },
        "outputId": "979d5c5d-3a91-4c55-ae30-9b29edad4e8f"
      },
      "outputs": [
        {
          "output_type": "stream",
          "name": "stdout",
          "text": [
            "Random Forest model trained with updated parameters.\n"
          ]
        }
      ],
      "source": [
        "from sklearn.ensemble import RandomForestClassifier\n",
        "\n",
        "# Define parameter values\n",
        "n_estimators = 280\n",
        "criterion = 'gini'\n",
        "max_depth = 12\n",
        "min_samples_split = 50\n",
        "min_samples_leaf = 40\n",
        "\n",
        "# Initialize and train the classifier with updated parameters\n",
        "model_random_forest = RandomForestClassifier(\n",
        "    n_estimators=n_estimators,\n",
        "    criterion=criterion,\n",
        "    max_depth=max_depth,\n",
        "    min_samples_split=min_samples_split,\n",
        "    min_samples_leaf=min_samples_leaf,\n",
        "    random_state=42\n",
        ")\n",
        "\n",
        "# Train the model\n",
        "model_random_forest.fit(X_train, y_train)\n",
        "\n",
        "# Print confirmation\n",
        "print(\"Random Forest model trained with updated parameters.\")\n"
      ]
    },
    {
      "cell_type": "markdown",
      "metadata": {
        "id": "4qOTlMrDkSBM"
      },
      "source": [
        "#6. Train model_adaboost\n",
        "\n",
        "- Library: sklearn.ensemble.AdaBoostClassifier\n",
        "- Data: X_train, Y_train\n",
        "- **Essential**: explore and optimize AdaBoostClassifier options"
      ]
    },
    {
      "cell_type": "code",
      "execution_count": 373,
      "metadata": {
        "id": "Y5VGaDhJkYsL",
        "colab": {
          "base_uri": "https://localhost:8080/"
        },
        "outputId": "7d4a42ab-b614-4eef-d182-aea0ded25883"
      },
      "outputs": [
        {
          "output_type": "stream",
          "name": "stderr",
          "text": [
            "/usr/local/lib/python3.10/dist-packages/sklearn/ensemble/_weight_boosting.py:527: FutureWarning: The SAMME.R algorithm (the default) is deprecated and will be removed in 1.6. Use the SAMME algorithm to circumvent this warning.\n",
            "  warnings.warn(\n"
          ]
        },
        {
          "output_type": "stream",
          "name": "stdout",
          "text": [
            "AdaBoost model trained with specified parameters.\n"
          ]
        }
      ],
      "source": [
        "from sklearn.ensemble import AdaBoostClassifier\n",
        "from sklearn.tree import DecisionTreeClassifier\n",
        "\n",
        "# Define parameter values\n",
        "n_estimators = 500                              # Number of boosting stages\n",
        "learning_rate = 0.7                                 # Learning rate\n",
        "estimator = DecisionTreeClassifier(max_depth=4)     # Base model\n",
        "\n",
        "# Initialize and train the classifier\n",
        "model_adaboost = AdaBoostClassifier(\n",
        "    estimator=estimator,\n",
        "    n_estimators=n_estimators,\n",
        "    learning_rate=learning_rate,\n",
        "    random_state=42\n",
        ")\n",
        "\n",
        "model_adaboost.fit(X_train, y_train)\n",
        "\n",
        "print(\"AdaBoost model trained with specified parameters.\")\n"
      ]
    },
    {
      "cell_type": "markdown",
      "metadata": {
        "id": "0AdCG5Pfta5S"
      },
      "source": [
        "#7. Evaluate model_decision_tree, model_random_forest, model_adaboost\n",
        "\n",
        "- Library: sklearn.metrics\n",
        "- Data: X_test, Y_test\n",
        "- **Calculate** and **print** results of each classifier\n",
        "- **Choose** the decisive metric\n",
        "- **Compare** between the classifiers and declare the winner\n"
      ]
    },
    {
      "cell_type": "code",
      "execution_count": 374,
      "metadata": {
        "id": "MkTXQR3mrBmM",
        "colab": {
          "base_uri": "https://localhost:8080/"
        },
        "outputId": "59b1bb2a-1381-4a76-d376-89eaa5b2b3e1"
      },
      "outputs": [
        {
          "output_type": "stream",
          "name": "stdout",
          "text": [
            "--- Decision Tree ---\n",
            "Accuracy: 0.9825\n",
            "Classification Report:\n",
            "              precision    recall  f1-score   support\n",
            "\n",
            "           0       0.96      1.00      0.98        43\n",
            "           1       1.00      0.97      0.99        71\n",
            "\n",
            "    accuracy                           0.98       114\n",
            "   macro avg       0.98      0.99      0.98       114\n",
            "weighted avg       0.98      0.98      0.98       114\n",
            "\n",
            "Confusion Matrix:\n",
            "[[43  0]\n",
            " [ 2 69]]\n",
            "\n",
            "--- Random Forest ---\n",
            "Accuracy: 0.9737\n",
            "Classification Report:\n",
            "              precision    recall  f1-score   support\n",
            "\n",
            "           0       1.00      0.93      0.96        43\n",
            "           1       0.96      1.00      0.98        71\n",
            "\n",
            "    accuracy                           0.97       114\n",
            "   macro avg       0.98      0.97      0.97       114\n",
            "weighted avg       0.97      0.97      0.97       114\n",
            "\n",
            "Confusion Matrix:\n",
            "[[40  3]\n",
            " [ 0 71]]\n",
            "\n",
            "--- AdaBoost ---\n",
            "Accuracy: 0.9211\n",
            "Classification Report:\n",
            "              precision    recall  f1-score   support\n",
            "\n",
            "           0       0.87      0.93      0.90        43\n",
            "           1       0.96      0.92      0.94        71\n",
            "\n",
            "    accuracy                           0.92       114\n",
            "   macro avg       0.91      0.92      0.92       114\n",
            "weighted avg       0.92      0.92      0.92       114\n",
            "\n",
            "Confusion Matrix:\n",
            "[[40  3]\n",
            " [ 6 65]]\n",
            "\n",
            "The best model based on accuracy is: Decision Tree\n"
          ]
        }
      ],
      "source": [
        "from sklearn.metrics import accuracy_score, classification_report, confusion_matrix\n",
        "\n",
        "# Evaluate each model on the test set\n",
        "models = {\n",
        "    \"Decision Tree\": model_decision_tree,\n",
        "    \"Random Forest\": model_random_forest,\n",
        "    \"AdaBoost\": model_adaboost\n",
        "}\n",
        "\n",
        "# Initialize a dictionary to store evaluation results\n",
        "evaluation_results = {}\n",
        "\n",
        "for model_name, model in models.items():\n",
        "    # Make predictions\n",
        "    y_pred = model.predict(X_test)\n",
        "\n",
        "    # Calculate accuracy\n",
        "    accuracy = accuracy_score(y_test, y_pred)\n",
        "\n",
        "    # Get the classification report (precision, recall, F1-score, support)\n",
        "    class_report = classification_report(y_test, y_pred)\n",
        "\n",
        "    # Get confusion matrix\n",
        "    conf_matrix = confusion_matrix(y_test, y_pred)\n",
        "\n",
        "    # Store the results\n",
        "    evaluation_results[model_name] = {\n",
        "        \"accuracy\": accuracy,\n",
        "        \"classification_report\": class_report,\n",
        "        \"confusion_matrix\": conf_matrix\n",
        "    }\n",
        "\n",
        "    # Print results for each model\n",
        "    print(f\"--- {model_name} ---\")\n",
        "    print(f\"Accuracy: {accuracy:.4f}\")\n",
        "    print(\"Classification Report:\")\n",
        "    print(class_report)\n",
        "    print(\"Confusion Matrix:\")\n",
        "    print(conf_matrix)\n",
        "    print()\n",
        "\n",
        "# Compare models based on accuracy and declare the winner\n",
        "best_model_name = max(evaluation_results, key=lambda x: evaluation_results[x]['accuracy'])\n",
        "print(f\"The best model based on accuracy is: {best_model_name}\")"
      ]
    }
  ],
  "metadata": {
    "colab": {
      "provenance": []
    },
    "kernelspec": {
      "display_name": "Python 3 (ipykernel)",
      "name": "python3",
      "language": "python"
    },
    "language_info": {
      "codemirror_mode": {
        "name": "ipython",
        "version": 3
      },
      "file_extension": ".py",
      "mimetype": "text/x-python",
      "name": "python",
      "nbconvert_exporter": "python",
      "pygments_lexer": "ipython3",
      "version": "3.12.0"
    }
  },
  "nbformat": 4,
  "nbformat_minor": 0
}